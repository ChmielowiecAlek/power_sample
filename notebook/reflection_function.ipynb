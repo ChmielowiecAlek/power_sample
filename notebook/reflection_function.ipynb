{
 "cells": [
  {
   "cell_type": "code",
   "execution_count": null,
   "id": "fc0e28a0",
   "metadata": {
    "scrolled": true
   },
   "outputs": [],
   "source": [
    "import math\n",
    "import numpy as np\n",
    "import matplotlib.pyplot as plt\n",
    "from matplotlib import cm\n",
    "\n",
    "import sys\n",
    "sys.path.append('../')\n",
    "\n",
    "from imc.matching_network import Theory"
   ]
  },
  {
   "cell_type": "code",
   "execution_count": null,
   "id": "7f8f729b",
   "metadata": {
    "scrolled": false
   },
   "outputs": [],
   "source": [
    "# try to plot the Fig. 6 from the article\n",
    "#\n",
    "# this figure corresponds to a coarse tuning\n",
    "# so, here the formula for |Γ| is a bit different\n",
    "# than (4) which is for fine tuning only\n",
    "\n",
    "# the parameters below are taken from the article\n",
    "COMPLEX_ONE = complex(1, 0)\n",
    "OMEGA = 2 * math.pi * 13.56e6\n",
    "ZO = complex(50)\n",
    "\n",
    "# ranges of variable capacitors from Fig. 6\n",
    "cl_min=600e-12\n",
    "cl_max=1600e-12\n",
    "ct_min=50e-12\n",
    "ct_max=250e-12\n",
    "\n",
    "# my arbitrary choice\n",
    "step=25e-12\n",
    "\n",
    "def gamma(cl, ct):\n",
    "    zl = COMPLEX_ONE / complex(0, OMEGA * cl)\n",
    "    zt = COMPLEX_ONE / complex(0, OMEGA * ct)\n",
    "    zy = zl * (zt + ZPL) / (zl + zt + ZPL)\n",
    "    gamma = (zy - ZO) / (zy + ZO)\n",
    "    return gamma\n",
    "\n",
    "def gamma_modulus(cl, ct):\n",
    "    return abs(gamma(cl, ct))\n",
    "\n",
    "Res = np.arange(0.0, 200.0, 1.0)\n",
    "Ims = np.arange(-200.0, 200.0, 1.0)\n",
    "for ZPL_Re in np.nditer(Res):\n",
    "    for ZPL_Im in np.nditer(Ims):\n",
    "        ZPL = complex(ZPL_Re, ZPL_Im)\n",
    "         \n",
    "        x = np.arange(cl_min, cl_max, step)\n",
    "        y = np.arange(ct_min, ct_max, step)\n",
    "\n",
    "        X, Y = np.meshgrid(x, y)\n",
    "        x = np.ravel(X)\n",
    "        y = np.ravel(Y)\n",
    "\n",
    "        z = np.array(list(map(gamma_modulus, x, y)))\n",
    "        Z = z.reshape(X.shape)\n",
    "\n",
    "        # skip not interesting figures\n",
    "        min_z_modulus = np.amin(Z)\n",
    "        min_index = np.argmin(Z)\n",
    "        if min_z_modulus < 0.01: \n",
    "            # create figure\n",
    "            fig = plt.figure()\n",
    "            ax = fig.add_subplot(111, projection='3d')\n",
    "\n",
    "            ax.plot_surface(X, Y, Z)\n",
    "\n",
    "            ax.set_xlabel('Cl')\n",
    "            ax.set_ylabel('Ct')\n",
    "            #ax.set_zlabel('|Γ|')\n",
    "            ax.set_title(\"ZPL=(\" + str(ZPL_Re) + ',' + str(ZPL_Im) + \")\"\n",
    "                         + \"  min(|Γ|)=\" + str(np.around(min_z_modulus, decimals=2))\n",
    "                         + \"  Cl=\" + str(np.format_float_scientific(x[min_index], precision=2))\n",
    "                         + \"  Ct=\" + str(np.format_float_scientific(y[min_index], precision=2))\n",
    "                        )\n",
    "            \n",
    "            plt.show()\n"
   ]
  },
  {
   "cell_type": "code",
   "execution_count": null,
   "id": "70c093ee",
   "metadata": {},
   "outputs": [],
   "source": [
    "# for example, this value of ZPL makes sense for me\n",
    "# ZPL=(5.0, 109.0)  min(|Γ|)=0.01  Cl=700pF  Ct=125pF\n",
    "# I will use it in the experimental code\n",
    "# together with slightly disturbed capacitors"
   ]
  }
 ],
 "metadata": {
  "kernelspec": {
   "display_name": "Python 3 (ipykernel)",
   "language": "python",
   "name": "python3"
  },
  "language_info": {
   "codemirror_mode": {
    "name": "ipython",
    "version": 3
   },
   "file_extension": ".py",
   "mimetype": "text/x-python",
   "name": "python",
   "nbconvert_exporter": "python",
   "pygments_lexer": "ipython3",
   "version": "3.10.4"
  }
 },
 "nbformat": 4,
 "nbformat_minor": 5
}
